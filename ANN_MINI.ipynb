{
  "cells": [
    {
      "cell_type": "code",
      "execution_count": null,
      "metadata": {
        "id": "QCGkP0Q86gdn"
      },
      "outputs": [],
      "source": [
        "import numpy as np\n",
        "import pandas as pd\n",
        "import tensorflow as tf\n",
        "from sklearn.preprocessing import LabelEncoder\n",
        "from sklearn.model_selection import train_test_split\n",
        "from sklearn.preprocessing import StandardScaler\n",
        "from keras.models import Sequential\n",
        "from keras.layers import Dense"
      ]
    },
    {
      "cell_type": "code",
      "execution_count": null,
      "metadata": {
        "id": "gBF87dl36kaO"
      },
      "outputs": [],
      "source": [
        "dataset = pd.read_csv('/content/Thyroid_Diff.csv')"
      ]
    },
    {
      "cell_type": "code",
      "execution_count": null,
      "metadata": {
        "id": "lD86_-c4BVDH"
      },
      "outputs": [],
      "source": [
        "dataset.rename(columns={'Hx Smoking': 'Smoking History',\n",
        "                   'Hx Radiothreapy': 'Radiotherapy History',\n",
        "                   'Pathology': 'Types of Thyroid Cancer (Pathology)',\n",
        "                   'T': 'Tumor',\n",
        "                   'N': 'Lymph Nodes',\n",
        "                   'M': 'Cancer Metastasis',\n",
        "                  'Response' : 'Treatment Response'}, inplace=True)\n"
      ]
    },
    {
      "cell_type": "code",
      "execution_count": null,
      "metadata": {
        "id": "tKK--kgQ2PW7"
      },
      "outputs": [],
      "source": [
        "dataset['Tumor'].replace({'T1a' : 'tumor that is 1 cm or smaller' , 'T1b' : 'tumor larger than 1 cm but not larger than 2 cm' ,\n",
        "                     'T2' : 'tumor larger than 2 cm but not larger than 4 cm' ,\n",
        "                     'T3a' : 'tumor larger than 4 cm' ,'T3b' : 'tumor that has grown outside the thyroid' ,\n",
        "                     'T4a' : 'tumor that has invaded nearby structures' ,\n",
        "                     'T4b' : 'tumor that has invaded nearby structures'} , inplace =True)\n",
        "\n",
        "dataset['Lymph Nodes'].replace({'N0' : 'no evidence of regional lymph node metastasis' ,\n",
        "                     'N1b' : 'regional lymph node metastasis in the central  of the neck' ,\n",
        "                     'N1a' : 'regional lymph node metastasis in the lateral of the neck'} , inplace =True)\n",
        "\n",
        "dataset['Cancer Metastasis'].replace({'M0': 'no evidence of distant metastasis' , 'M1' : 'the presence of distant metastasis'} ,inplace =True )\n",
        "\n",
        "dataset['Stage'].replace({'I' : 'First-Stage' , 'II' : 'Second-Stage' , 'III' : 'Third-Stage', 'IVA' : 'Fourth-Stage-A', 'IVB' : 'Fourth-Stage-B'} ,inplace = True)"
      ]
    },
    {
      "cell_type": "code",
      "execution_count": null,
      "metadata": {
        "id": "ZRkrLDTl5B3Z"
      },
      "outputs": [],
      "source": [
        "pd.set_option('display.max_columns', 100)"
      ]
    },
    {
      "cell_type": "markdown",
      "source": [
        "#Making Dummy Variables and Label Encoding"
      ],
      "metadata": {
        "id": "W6PrQUsAZEJJ"
      }
    },
    {
      "cell_type": "code",
      "execution_count": null,
      "metadata": {
        "id": "1CnORLys5Ivc"
      },
      "outputs": [],
      "source": [
        "dataset = pd.get_dummies(dataset,columns=['Thyroid Function','Physical Examination','Adenopathy','Types of Thyroid Cancer (Pathology)','Focality','Tumor','Lymph Nodes','Cancer Metastasis'])"
      ]
    },
    {
      "cell_type": "code",
      "execution_count": null,
      "metadata": {
        "id": "8jNYsCed5Tmz"
      },
      "outputs": [],
      "source": [
        "categ = ['Gender','Smoking','Smoking History','Radiotherapy History','Risk','Stage','Treatment Response','Recurred']\n",
        "# Encode Categorical Columns\n",
        "le = LabelEncoder()\n",
        "dataset[categ] = dataset[categ].apply(le.fit_transform)"
      ]
    },
    {
      "cell_type": "code",
      "execution_count": null,
      "metadata": {
        "id": "2FcDRrVX5a3T"
      },
      "outputs": [],
      "source": [
        "X = dataset.drop('Recurred', axis =1).values\n",
        "y = dataset['Recurred'].values"
      ]
    },
    {
      "cell_type": "markdown",
      "metadata": {
        "id": "WUbs-1F4iUwu"
      },
      "source": [
        "#Splitting the dataset into the Training set and Test set"
      ]
    },
    {
      "cell_type": "code",
      "execution_count": null,
      "metadata": {
        "id": "sdtDjUae2vGM"
      },
      "outputs": [],
      "source": [
        "X_train, X_test, y_train, y_test = train_test_split( X, y, test_size = 0.2, random_state = 42)"
      ]
    },
    {
      "cell_type": "markdown",
      "source": [
        "#Feature Scaling"
      ],
      "metadata": {
        "id": "4Qr5peCfZTf8"
      }
    },
    {
      "cell_type": "code",
      "execution_count": null,
      "metadata": {
        "id": "kAVHVxhy3F6f"
      },
      "outputs": [],
      "source": [
        "sc = StandardScaler()\n",
        "X_train = sc.fit_transform(X_train)\n",
        "X_test = sc.transform(X_test)"
      ]
    },
    {
      "cell_type": "markdown",
      "source": [
        "#Building Ann Model"
      ],
      "metadata": {
        "id": "IqS6yNFWZUpg"
      }
    },
    {
      "cell_type": "code",
      "execution_count": null,
      "metadata": {
        "id": "Ejmn27ev53xD"
      },
      "outputs": [],
      "source": [
        "ann = tf.keras.models.Sequential()\n",
        "ann.add(tf.keras.layers.Dense(units = 30, activation = 'relu'))\n",
        "ann.add(tf.keras.layers.Dense(units = 30, activation = 'relu'))\n",
        "ann.add(tf.keras.layers.Dense(units = 1, activation = 'sigmoid'))"
      ]
    },
    {
      "cell_type": "code",
      "execution_count": null,
      "metadata": {
        "id": "rLJXSBKF6XTQ"
      },
      "outputs": [],
      "source": [
        "ann.compile(optimizer = 'adam', loss = 'binary_crossentropy', metrics = ['accuracy'])"
      ]
    },
    {
      "cell_type": "code",
      "execution_count": null,
      "metadata": {
        "colab": {
          "base_uri": "https://localhost:8080/"
        },
        "id": "oM7OWQdv6aBq",
        "outputId": "54430407-1767-43c8-b290-a65d830882be"
      },
      "outputs": [
        {
          "output_type": "stream",
          "name": "stdout",
          "text": [
            "Epoch 1/50\n",
            "10/10 [==============================] - 1s 4ms/step - loss: 0.6543 - accuracy: 0.6732\n",
            "Epoch 2/50\n",
            "10/10 [==============================] - 0s 4ms/step - loss: 0.5428 - accuracy: 0.8007\n",
            "Epoch 3/50\n",
            "10/10 [==============================] - 0s 4ms/step - loss: 0.4604 - accuracy: 0.8431\n",
            "Epoch 4/50\n",
            "10/10 [==============================] - 0s 3ms/step - loss: 0.3937 - accuracy: 0.8693\n",
            "Epoch 5/50\n",
            "10/10 [==============================] - 0s 3ms/step - loss: 0.3463 - accuracy: 0.8725\n",
            "Epoch 6/50\n",
            "10/10 [==============================] - 0s 4ms/step - loss: 0.3123 - accuracy: 0.8791\n",
            "Epoch 7/50\n",
            "10/10 [==============================] - 0s 3ms/step - loss: 0.2853 - accuracy: 0.8856\n",
            "Epoch 8/50\n",
            "10/10 [==============================] - 0s 3ms/step - loss: 0.2643 - accuracy: 0.9020\n",
            "Epoch 9/50\n",
            "10/10 [==============================] - 0s 4ms/step - loss: 0.2468 - accuracy: 0.9052\n",
            "Epoch 10/50\n",
            "10/10 [==============================] - 0s 3ms/step - loss: 0.2309 - accuracy: 0.9150\n",
            "Epoch 11/50\n",
            "10/10 [==============================] - 0s 3ms/step - loss: 0.2180 - accuracy: 0.9183\n",
            "Epoch 12/50\n",
            "10/10 [==============================] - 0s 3ms/step - loss: 0.2060 - accuracy: 0.9183\n",
            "Epoch 13/50\n",
            "10/10 [==============================] - 0s 3ms/step - loss: 0.1944 - accuracy: 0.9183\n",
            "Epoch 14/50\n",
            "10/10 [==============================] - 0s 3ms/step - loss: 0.1843 - accuracy: 0.9248\n",
            "Epoch 15/50\n",
            "10/10 [==============================] - 0s 3ms/step - loss: 0.1738 - accuracy: 0.9314\n",
            "Epoch 16/50\n",
            "10/10 [==============================] - 0s 3ms/step - loss: 0.1653 - accuracy: 0.9346\n",
            "Epoch 17/50\n",
            "10/10 [==============================] - 0s 4ms/step - loss: 0.1577 - accuracy: 0.9379\n",
            "Epoch 18/50\n",
            "10/10 [==============================] - 0s 4ms/step - loss: 0.1492 - accuracy: 0.9412\n",
            "Epoch 19/50\n",
            "10/10 [==============================] - 0s 3ms/step - loss: 0.1424 - accuracy: 0.9444\n",
            "Epoch 20/50\n",
            "10/10 [==============================] - 0s 4ms/step - loss: 0.1360 - accuracy: 0.9542\n",
            "Epoch 21/50\n",
            "10/10 [==============================] - 0s 4ms/step - loss: 0.1306 - accuracy: 0.9510\n",
            "Epoch 22/50\n",
            "10/10 [==============================] - 0s 4ms/step - loss: 0.1259 - accuracy: 0.9575\n",
            "Epoch 23/50\n",
            "10/10 [==============================] - 0s 4ms/step - loss: 0.1198 - accuracy: 0.9641\n",
            "Epoch 24/50\n",
            "10/10 [==============================] - 0s 3ms/step - loss: 0.1151 - accuracy: 0.9673\n",
            "Epoch 25/50\n",
            "10/10 [==============================] - 0s 4ms/step - loss: 0.1102 - accuracy: 0.9673\n",
            "Epoch 26/50\n",
            "10/10 [==============================] - 0s 3ms/step - loss: 0.1063 - accuracy: 0.9673\n",
            "Epoch 27/50\n",
            "10/10 [==============================] - 0s 4ms/step - loss: 0.1032 - accuracy: 0.9673\n",
            "Epoch 28/50\n",
            "10/10 [==============================] - 0s 4ms/step - loss: 0.0984 - accuracy: 0.9706\n",
            "Epoch 29/50\n",
            "10/10 [==============================] - 0s 4ms/step - loss: 0.0947 - accuracy: 0.9739\n",
            "Epoch 30/50\n",
            "10/10 [==============================] - 0s 3ms/step - loss: 0.0911 - accuracy: 0.9739\n",
            "Epoch 31/50\n",
            "10/10 [==============================] - 0s 3ms/step - loss: 0.0882 - accuracy: 0.9739\n",
            "Epoch 32/50\n",
            "10/10 [==============================] - 0s 3ms/step - loss: 0.0848 - accuracy: 0.9771\n",
            "Epoch 33/50\n",
            "10/10 [==============================] - 0s 3ms/step - loss: 0.0819 - accuracy: 0.9804\n",
            "Epoch 34/50\n",
            "10/10 [==============================] - 0s 2ms/step - loss: 0.0791 - accuracy: 0.9804\n",
            "Epoch 35/50\n",
            "10/10 [==============================] - 0s 2ms/step - loss: 0.0759 - accuracy: 0.9804\n",
            "Epoch 36/50\n",
            "10/10 [==============================] - 0s 3ms/step - loss: 0.0730 - accuracy: 0.9804\n",
            "Epoch 37/50\n",
            "10/10 [==============================] - 0s 3ms/step - loss: 0.0710 - accuracy: 0.9804\n",
            "Epoch 38/50\n",
            "10/10 [==============================] - 0s 3ms/step - loss: 0.0690 - accuracy: 0.9804\n",
            "Epoch 39/50\n",
            "10/10 [==============================] - 0s 3ms/step - loss: 0.0661 - accuracy: 0.9804\n",
            "Epoch 40/50\n",
            "10/10 [==============================] - 0s 2ms/step - loss: 0.0641 - accuracy: 0.9804\n",
            "Epoch 41/50\n",
            "10/10 [==============================] - 0s 2ms/step - loss: 0.0623 - accuracy: 0.9804\n",
            "Epoch 42/50\n",
            "10/10 [==============================] - 0s 2ms/step - loss: 0.0599 - accuracy: 0.9837\n",
            "Epoch 43/50\n",
            "10/10 [==============================] - 0s 3ms/step - loss: 0.0579 - accuracy: 0.9837\n",
            "Epoch 44/50\n",
            "10/10 [==============================] - 0s 3ms/step - loss: 0.0557 - accuracy: 0.9869\n",
            "Epoch 45/50\n",
            "10/10 [==============================] - 0s 3ms/step - loss: 0.0542 - accuracy: 0.9869\n",
            "Epoch 46/50\n",
            "10/10 [==============================] - 0s 2ms/step - loss: 0.0519 - accuracy: 0.9869\n",
            "Epoch 47/50\n",
            "10/10 [==============================] - 0s 2ms/step - loss: 0.0508 - accuracy: 0.9902\n",
            "Epoch 48/50\n",
            "10/10 [==============================] - 0s 3ms/step - loss: 0.0486 - accuracy: 0.9902\n",
            "Epoch 49/50\n",
            "10/10 [==============================] - 0s 3ms/step - loss: 0.0472 - accuracy: 0.9902\n",
            "Epoch 50/50\n",
            "10/10 [==============================] - 0s 2ms/step - loss: 0.0453 - accuracy: 0.9902\n",
            "3/3 [==============================] - 0s 7ms/step - loss: 0.2889 - accuracy: 0.9221\n",
            "Test Accuracy: 92.21%\n"
          ]
        }
      ],
      "source": [
        "ann.fit(X_train, y_train, batch_size = 32, epochs = 50)\n",
        "test_loss, test_accuracy = ann.evaluate(X_test, y_test)\n",
        "print(f'Test Accuracy: {test_accuracy * 100:.2f}%')"
      ]
    }
  ],
  "metadata": {
    "colab": {
      "provenance": []
    },
    "kernelspec": {
      "display_name": "Python 3",
      "name": "python3"
    },
    "language_info": {
      "name": "python"
    }
  },
  "nbformat": 4,
  "nbformat_minor": 0
}